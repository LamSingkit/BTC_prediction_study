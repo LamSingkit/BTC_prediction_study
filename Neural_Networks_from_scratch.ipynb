{
  "nbformat": 4,
  "nbformat_minor": 0,
  "metadata": {
    "colab": {
      "provenance": [],
      "collapsed_sections": [
        "XxLMn1ygQMyt"
      ],
      "authorship_tag": "ABX9TyPopze5wI56WJi7V3gJXbRZ",
      "include_colab_link": true
    },
    "kernelspec": {
      "name": "python3",
      "display_name": "Python 3"
    },
    "language_info": {
      "name": "python"
    }
  },
  "cells": [
    {
      "cell_type": "markdown",
      "metadata": {
        "id": "view-in-github",
        "colab_type": "text"
      },
      "source": [
        "<a href=\"https://colab.research.google.com/github/LamSingkit/BTC_prediction_study/blob/master/Neural_Networks_from_scratch.ipynb\" target=\"_parent\"><img src=\"https://colab.research.google.com/assets/colab-badge.svg\" alt=\"Open In Colab\"/></a>"
      ]
    },
    {
      "cell_type": "markdown",
      "source": [
        "Source: [Building Micrograd - Andrej Karpathy](https://www.youtube.com/watch?v=VMj-3S1tku0&list=PLAqhIrjkxbuWI23v9cThsA9GvCAUhRvKZ&index=1)\n",
        "\n",
        "Codes backpropagation from scratch."
      ],
      "metadata": {
        "id": "Pje3LLyA8mJd"
      }
    },
    {
      "cell_type": "code",
      "execution_count": 1,
      "metadata": {
        "id": "uoJj8JDt7W74"
      },
      "outputs": [],
      "source": [
        "import math\n",
        "import numpy as np\n",
        "import matplotlib.pyplot as plt\n",
        "%matplotlib inline"
      ]
    },
    {
      "cell_type": "markdown",
      "source": [
        "# What is derivative?"
      ],
      "metadata": {
        "id": "XxLMn1ygQMyt"
      }
    },
    {
      "cell_type": "code",
      "source": [
        "#Example function\n",
        "def f(x):\n",
        "    return 3*x**2 - 4*x + 5\n",
        "\n",
        "xs = np.arange(-5, 5, 0.25)\n",
        "ys = f(xs)\n",
        "plt.plot(xs, ys)"
      ],
      "metadata": {
        "colab": {
          "base_uri": "https://localhost:8080/",
          "height": 447
        },
        "id": "ycg2WLD0A2-V",
        "outputId": "61d80e94-6ca2-43a0-d07a-246eabe99909"
      },
      "execution_count": 4,
      "outputs": [
        {
          "output_type": "execute_result",
          "data": {
            "text/plain": [
              "[<matplotlib.lines.Line2D at 0x7a5ee55d96d0>]"
            ]
          },
          "metadata": {},
          "execution_count": 4
        },
        {
          "output_type": "display_data",
          "data": {
            "text/plain": [
              "<Figure size 640x480 with 1 Axes>"
            ],
            "image/png": "[encoded data removed]"
          },
          "metadata": {}
        }
      ]
    },
    {
      "cell_type": "code",
      "source": [
        "# Finding the slope (derivative) at x = 3\n",
        "h = 0.001\n",
        "x = 3.0\n",
        "(f(x + h) - f(x)) / h"
      ],
      "metadata": {
        "colab": {
          "base_uri": "https://localhost:8080/"
        },
        "id": "I-SPzkhEO7nB",
        "outputId": "7e7f2f08-a2fe-4dbf-d238-c60634b2f9eb"
      },
      "execution_count": 5,
      "outputs": [
        {
          "output_type": "execute_result",
          "data": {
            "text/plain": [
              "14.00300000000243"
            ]
          },
          "metadata": {},
          "execution_count": 5
        }
      ]
    },
    {
      "cell_type": "code",
      "source": [
        "h = 0.0001\n",
        "\n",
        "# inputs\n",
        "a = 2.0\n",
        "b = -3.0\n",
        "c = 10\n",
        "\n",
        "d1 = a*b + c\n",
        "#a += h\n",
        "b += h\n",
        "#c += h\n",
        "d2 = a*b + c\n",
        "\n",
        "print('d1:', d1)\n",
        "print('d2:', d2)\n",
        "print('slope:', (d2 - d1) / h)"
      ],
      "metadata": {
        "colab": {
          "base_uri": "https://localhost:8080/"
        },
        "id": "FGsaiAQFRLQ2",
        "outputId": "4c00c549-d8ed-42a2-8618-c181561e6285"
      },
      "execution_count": 7,
      "outputs": [
        {
          "output_type": "stream",
          "name": "stdout",
          "text": [
            "d1: 4.0\n",
            "d2: 4.0002\n",
            "slope: 2.0000000000042206\n"
          ]
        }
      ]
    },
    {
      "cell_type": "markdown",
      "source": [
        "# Class"
      ],
      "metadata": {
        "id": "jwzMshnNSlB6"
      }
    },
    {
      "cell_type": "code",
      "source": [],
      "metadata": {
        "id": "p67EYBBuSlbP"
      },
      "execution_count": null,
      "outputs": []
    }
  ]
}